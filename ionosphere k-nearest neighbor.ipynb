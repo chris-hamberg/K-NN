{
 "cells": [
  {
   "cell_type": "markdown",
   "metadata": {},
   "source": [
    "# K-Nearest Neighbor\n",
    "<p> - Minkowski distance K-NN on Ionosphere dataset</p>\n",
    "<p> - n_neighbors for n=1,20 Stratified K Fold tested for model accuracy.</p>\n",
    "<p> sources: <em>Python: Real-World Data Science [pg.658 - 663]</em></p>\n",
    "<p> data source: <a href=\"http://archive.ics.uci.edu/ml/datasets/Ionosphere\">archive.ics.uci.edu</a>"
   ]
  },
  {
   "cell_type": "code",
   "execution_count": 2,
   "metadata": {},
   "outputs": [],
   "source": [
    "import numpy as np\n",
    "import csv"
   ]
  },
  {
   "cell_type": "markdown",
   "metadata": {},
   "source": [
    "<p>X consists of 351 sets each consisting of 34 measurements</p>\n",
    "<p>y is the set of 35th features indicating state classification for Xi</p>"
   ]
  },
  {
   "cell_type": "code",
   "execution_count": 5,
   "metadata": {},
   "outputs": [],
   "source": [
    "X = np.zeros((351, 34), dtype='float') # dataset cardinality and col -1\n",
    "y = np.zeros((351,), dtype='bool')\n",
    "\n",
    "with open('ionosphere.data') as fhand:\n",
    "    reader = csv.reader(fhand)\n",
    "    for i, row in enumerate(reader):\n",
    "        data = [float(datum) for datum in row[:-1]]\n",
    "        X[i] = data\n",
    "        y[i] = row[-1] == 'g'"
   ]
  },
  {
   "cell_type": "markdown",
   "metadata": {},
   "source": [
    "<p>Create training and testing sets</p>"
   ]
  },
  {
   "cell_type": "code",
   "execution_count": 7,
   "metadata": {},
   "outputs": [],
   "source": [
    "from sklearn.model_selection import train_test_split\n",
    "\n",
    "X_train, X_test, y_train, y_test = train_test_split(\n",
    "    X, y, random_state=14)"
   ]
  },
  {
   "cell_type": "markdown",
   "metadata": {},
   "source": [
    "<p>Create KNeighborsClassifier estimator and fit the training dataset</p>"
   ]
  },
  {
   "cell_type": "code",
   "execution_count": 9,
   "metadata": {},
   "outputs": [
    {
     "data": {
      "text/plain": [
       "KNeighborsClassifier(algorithm='auto', leaf_size=30, metric='minkowski',\n",
       "           metric_params=None, n_jobs=None, n_neighbors=5, p=2,\n",
       "           weights='uniform')"
      ]
     },
     "execution_count": 9,
     "metadata": {},
     "output_type": "execute_result"
    }
   ],
   "source": [
    "from sklearn.neighbors import KNeighborsClassifier\n",
    "\n",
    "estimator = KNeighborsClassifier()\n",
    "estimator.fit(X_train, y_train)"
   ]
  },
  {
   "cell_type": "markdown",
   "metadata": {},
   "source": [
    "<p>Test the classifier model</p>"
   ]
  },
  {
   "cell_type": "code",
   "execution_count": 10,
   "metadata": {},
   "outputs": [
    {
     "name": "stdout",
     "output_type": "stream",
     "text": [
      "The accuracy is 86.4%\n"
     ]
    }
   ],
   "source": [
    "y_predicted = estimator.predict(X_test)\n",
    "accuracy = np.mean(y_test == y_predicted) * 100\n",
    "print(\"The accuracy is {0:.1f}%\".format(accuracy))"
   ]
  },
  {
   "cell_type": "markdown",
   "metadata": {},
   "source": [
    "<h5>Cross fold model validation</h5>\n",
    "\n",
    "<p> - Stratified K Fold (default) </p>"
   ]
  },
  {
   "cell_type": "code",
   "execution_count": 13,
   "metadata": {},
   "outputs": [
    {
     "name": "stdout",
     "output_type": "stream",
     "text": [
      "The average accuracy is 82.3%\n"
     ]
    }
   ],
   "source": [
    "from sklearn.model_selection import cross_val_score\n",
    "\n",
    "scores = cross_val_score(estimator, X, y, scoring='accuracy', cv=3)\n",
    "average_accuracy = np.mean(scores) * 100\n",
    "print(\"The average accuracy is {0:.1f}%\".format(average_accuracy))"
   ]
  },
  {
   "cell_type": "markdown",
   "metadata": {},
   "source": [
    "<p>Test variance in accuracy by the factor n_neighbors, n=1,20</p>"
   ]
  },
  {
   "cell_type": "code",
   "execution_count": 15,
   "metadata": {},
   "outputs": [],
   "source": [
    "avg_scores = list()\n",
    "all_scores = list()\n",
    "parameter_values = list(range(1,21))\n",
    "for n_neighbors in parameter_values:\n",
    "    estimator = KNeighborsClassifier(n_neighbors=n_neighbors)\n",
    "    scores = cross_val_score(estimator, X, y, scoring='accuracy', cv=3)\n",
    "    avg_scores.append(np.mean(scores))\n",
    "    all_scores.append(scores)"
   ]
  },
  {
   "cell_type": "markdown",
   "metadata": {},
   "source": [
    "<p>Plot the correlation between n_neighbors and the accuracy.</p>"
   ]
  },
  {
   "cell_type": "code",
   "execution_count": 25,
   "metadata": {},
   "outputs": [
    {
     "data": {
      "text/plain": [
       "Text(0, 0.5, 'accuracy')"
      ]
     },
     "execution_count": 25,
     "metadata": {},
     "output_type": "execute_result"
    },
    {
     "data": {
      "image/png": "[encoded data removed]",
      "text/plain": [
       "<Figure size 432x288 with 1 Axes>"
      ]
     },
     "metadata": {
      "needs_background": "light"
     },
     "output_type": "display_data"
    }
   ],
   "source": [
    "%matplotlib inline\n",
    "import matplotlib.pyplot as plt\n",
    "\n",
    "plt.plot(parameter_values, avg_scores, '-o')\n",
    "plt.suptitle('Euclidan KNN Stratified K Fold n=1,20')\n",
    "plt.title('(relate parameter n_neighbors with accuracy)')\n",
    "plt.xlabel('n_neighbors')\n",
    "plt.ylabel('accuracy')"
   ]
  }
 ],
 "metadata": {
  "kernelspec": {
   "display_name": "Python 3",
   "language": "python",
   "name": "python3"
  },
  "language_info": {
   "codemirror_mode": {
    "name": "ipython",
    "version": 3
   },
   "file_extension": ".py",
   "mimetype": "text/x-python",
   "name": "python",
   "nbconvert_exporter": "python",
   "pygments_lexer": "ipython3",
   "version": "3.7.1"
  }
 },
 "nbformat": 4,
 "nbformat_minor": 2
}
